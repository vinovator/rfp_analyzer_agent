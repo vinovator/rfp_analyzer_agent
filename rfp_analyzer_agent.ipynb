{
 "cells": [
  {
   "cell_type": "markdown",
   "id": "ca0b9341-15c2-481b-b8a2-254277561f23",
   "metadata": {},
   "source": [
    "## RFP Analyzer Agent"
   ]
  },
  {
   "cell_type": "markdown",
   "id": "4960268d-653b-4e94-9977-ab346266a8d8",
   "metadata": {},
   "source": [
    "An agent that\n",
    "1. Accepts an RFP/ RFI document (PDF, DOCX, or pasted text)\n",
    "2. Extracts key sections like:\n",
    "   - Eligibility criteria\n",
    "   - Evaluation criteria\n",
    "   - Submission deadlines\n",
    "   - Required Documentation\n",
    "3. Outputs a structured summary"
   ]
  },
  {
   "cell_type": "code",
   "execution_count": 1,
   "id": "966e070c-71ef-42a4-a5b0-9e20dda4b621",
   "metadata": {},
   "outputs": [],
   "source": [
    "from openai import OpenAI\n",
    "from config import OPENAI_API_KEY"
   ]
  },
  {
   "cell_type": "code",
   "execution_count": 2,
   "id": "2e411407-d2b3-4a49-b2fc-9f6b738caa85",
   "metadata": {},
   "outputs": [],
   "source": [
    "client = OpenAI(api_key = OPENAI_API_KEY)"
   ]
  },
  {
   "cell_type": "markdown",
   "id": "c47a5318-4ddd-46f5-af7b-f651dca8d0ce",
   "metadata": {},
   "source": [
    "#### Define mock RFP text"
   ]
  },
  {
   "cell_type": "code",
   "execution_count": 3,
   "id": "fec6003d-088e-4c6c-8def-7c075e1cdc0b",
   "metadata": {},
   "outputs": [
    {
     "name": "stdout",
     "output_type": "stream",
     "text": [
      "Sample RFP loaded.\n"
     ]
    }
   ],
   "source": [
    "# Sample mock RFP text (can be replaced with uploaded file later)\n",
    "mock_rfp = \"\"\"\n",
    "Request for Proposal (RFP)\n",
    "Issued: July 1, 2025\n",
    "Closing Date: July 20, 2025\n",
    "Reference No.: RFP/IT/2025-07\n",
    "\n",
    "1. Eligibility:\n",
    "Vendors must have at least 5 years of experience in IT service delivery for government agencies. Certification in ISO 27001 is mandatory.\n",
    "\n",
    "2. Submission Instructions:\n",
    "All proposals must be submitted via email to procurement@govagency.org no later than 5:00 PM BST on the closing date.\n",
    "\n",
    "3. Evaluation Criteria:\n",
    "- Price: 40%\n",
    "- Technical Expertise: 30%\n",
    "- Delivery Timeline: 20%\n",
    "- Sustainability Practices: 10%\n",
    "\n",
    "4. Required Documentation:\n",
    "- Company profile\n",
    "- Financial statements for the past 2 years\n",
    "- At least 3 references\n",
    "- Project plan\n",
    "\n",
    "5. Contact Information:\n",
    "Questions may be directed to Sarah Nolan, Procurement Officer, by July 10, 2025.\n",
    "\"\"\"\n",
    "print(\"Sample RFP loaded.\")\n"
   ]
  },
  {
   "cell_type": "markdown",
   "id": "adb524eb-b046-451a-826f-f9d61a7d024e",
   "metadata": {},
   "source": [
    "#### Agent Prompt Template"
   ]
  },
  {
   "cell_type": "code",
   "execution_count": 4,
   "id": "0498d7f3-cfe0-4d35-8d95-b07a868d503e",
   "metadata": {},
   "outputs": [],
   "source": [
    "def generate_prompt(rfp_text):\n",
    "    return f\"\"\"\n",
    "You are an AI assistant that extracts structured information from a Request for Proposal (RFP).\n",
    "\n",
    "Here is the RFP text:\n",
    "\\\"\\\"\\\"\n",
    "{rfp_text}\n",
    "\\\"\\\"\\\"\n",
    "\n",
    "Extract and return the following fields in JSON format:\n",
    "- Title\n",
    "- Reference number\n",
    "- Issued date\n",
    "- Closing date\n",
    "- Eligibility criteria\n",
    "- Submission Instructions\n",
    "- Evaluation Criteria\n",
    "- Required Documentation\n",
    "- Contact information\n",
    "    \"\"\""
   ]
  },
  {
   "cell_type": "markdown",
   "id": "c9a1f75b-8c08-4d74-bb4e-941fef0d2367",
   "metadata": {},
   "source": [
    "#### Call GPT"
   ]
  },
  {
   "cell_type": "code",
   "execution_count": 5,
   "id": "a49daac5-0885-4c84-a2ce-deb9f2d3c52f",
   "metadata": {},
   "outputs": [],
   "source": [
    "def extract_rfp_info(rfp_text):\n",
    "    prompt = generate_prompt(rfp_text)\n",
    "    response = client.chat.completions.create(\n",
    "        model = \"gpt-4o-mini\",\n",
    "        messages = [\n",
    "            {\"role\": \"system\", \"content\": \"You are a helpful assistant that extracts structured info from business documents\"},\n",
    "            {\"role\": \"user\", \"content\": prompt}\n",
    "        ],\n",
    "        temperature = 0.2 # Low randomness; good for extraction tasks\n",
    "    )\n",
    "    return response.choices[0].message.content.strip()"
   ]
  },
  {
   "cell_type": "markdown",
   "id": "0a1250bc-70b9-4bca-a0e1-9ac63427cf16",
   "metadata": {},
   "source": [
    "#### Run the Agent"
   ]
  },
  {
   "cell_type": "code",
   "execution_count": 6,
   "id": "329d6498-4965-4289-ab0e-ea121e8680b7",
   "metadata": {},
   "outputs": [
    {
     "name": "stdout",
     "output_type": "stream",
     "text": [
      "```json\n",
      "{\n",
      "  \"Title\": \"Request for Proposal (RFP)\",\n",
      "  \"Reference number\": \"RFP/IT/2025-07\",\n",
      "  \"Issued date\": \"July 1, 2025\",\n",
      "  \"Closing date\": \"July 20, 2025\",\n",
      "  \"Eligibility criteria\": {\n",
      "    \"Experience\": \"At least 5 years of experience in IT service delivery for government agencies\",\n",
      "    \"Certification\": \"ISO 27001 is mandatory\"\n",
      "  },\n",
      "  \"Submission Instructions\": \"All proposals must be submitted via email to procurement@govagency.org no later than 5:00 PM BST on the closing date.\",\n",
      "  \"Evaluation Criteria\": {\n",
      "    \"Price\": \"40%\",\n",
      "    \"Technical Expertise\": \"30%\",\n",
      "    \"Delivery Timeline\": \"20%\",\n",
      "    \"Sustainability Practices\": \"10%\"\n",
      "  },\n",
      "  \"Required Documentation\": [\n",
      "    \"Company profile\",\n",
      "    \"Financial statements for the past 2 years\",\n",
      "    \"At least 3 references\",\n",
      "    \"Project plan\"\n",
      "  ],\n",
      "  \"Contact information\": {\n",
      "    \"Name\": \"Sarah Nolan\",\n",
      "    \"Title\": \"Procurement Officer\",\n",
      "    \"Deadline for Questions\": \"July 10, 2025\"\n",
      "  }\n",
      "}\n",
      "```\n"
     ]
    }
   ],
   "source": [
    "output = extract_rfp_info(mock_rfp)\n",
    "print(output)"
   ]
  },
  {
   "cell_type": "code",
   "execution_count": 33,
   "id": "2ab8dfdd-bc4b-4b09-af69-e149f17458b0",
   "metadata": {},
   "outputs": [
    {
     "name": "stdout",
     "output_type": "stream",
     "text": [
      "```json\n",
      "{\n",
      "  \"Title\": \"Request for Proposal (RFP)\",\n",
      "  \"Reference number\": \"RFP/IT/2025-07\",\n",
      "  \"Issued date\": \"July 1, 2025\",\n",
      "  \"Closing date\": \"July 20, 2025\",\n",
      "  \"Eligibility criteria\": {\n",
      "    \"Experience\": \"At least 5 years of experience in IT service delivery for government agencies\",\n",
      "    \"Certification\": \"ISO 27001 is mandatory\"\n",
      "  },\n",
      "  \"Submission Instructions\": \"All proposals must be submitted via email to procurement@govagency.org no later than 5:00 PM BST on the closing date.\",\n",
      "  \"Evaluation Criteria\": {\n",
      "    \"Price\": \"40%\",\n",
      "    \"Technical Expertise\": \"30%\",\n",
      "    \"Delivery Timeline\": \"20%\",\n",
      "    \"Sustainability Practices\": \"10%\"\n",
      "  },\n",
      "  \"Required Documentation\": [\n",
      "    \"Company profile\",\n",
      "    \"Financial statements for the past 2 years\",\n",
      "    \"At least 3 references\",\n",
      "    \"Project plan\"\n",
      "  ],\n",
      "  \"Contact information\": {\n",
      "    \"Name\": \"Sarah Nolan\",\n",
      "    \"Title\": \"Procurement Officer\",\n",
      "    \"Deadline for Questions\": \"July 10, 2025\"\n",
      "  }\n",
      "}\n",
      "```\n"
     ]
    }
   ],
   "source": [
    "# Import and use the module\n",
    "from extractor.rfp_extractor import extract_rfp_info\n",
    "\n",
    "output = extract_rfp_info(mock_rfp)\n",
    "print(output)"
   ]
  },
  {
   "cell_type": "code",
   "execution_count": 35,
   "id": "86db92ee-026b-49d9-b562-3c852c6ff1ce",
   "metadata": {},
   "outputs": [
    {
     "name": "stdout",
     "output_type": "stream",
     "text": [
      "```json\n",
      "{\n",
      "  \"Title\": \"Request for Proposal (RFP)\",\n",
      "  \"Reference number\": \"RFP/IT/2025-07\",\n",
      "  \"Issued date\": \"July 1, 2025\",\n",
      "  \"Closing date\": \"July 20, 2025\",\n",
      "  \"Eligibility criteria\": {\n",
      "    \"Experience\": \"At least 5 years of experience in IT service delivery for government agencies\",\n",
      "    \"Certification\": \"ISO 27001 is mandatory\"\n",
      "  },\n",
      "  \"Submission Instructions\": \"All proposals must be submitted via email to procurement@govagency.org no later than 5:00 PM BST on the closing date.\",\n",
      "  \"Evaluation Criteria\": {\n",
      "    \"Price\": \"40%\",\n",
      "    \"Technical Expertise\": \"30%\",\n",
      "    \"Delivery Timeline\": \"20%\",\n",
      "    \"Sustainability Practices\": \"10%\"\n",
      "  },\n",
      "  \"Required Documentation\": [\n",
      "    \"Company profile\",\n",
      "    \"Financial statements for the past 2 years\",\n",
      "    \"At least 3 references\",\n",
      "    \"Project plan\"\n",
      "  ],\n",
      "  \"Contact information\": {\n",
      "    \"Name\": \"Sarah Nolan\",\n",
      "    \"Title\": \"Procurement Officer\",\n",
      "    \"Deadline for Questions\": \"July 10, 2025\"\n",
      "  }\n",
      "}\n",
      "```\n"
     ]
    }
   ],
   "source": [
    "print(output)"
   ]
  },
  {
   "cell_type": "code",
   "execution_count": 39,
   "id": "214eb664-0e26-45cd-a08d-9acd33001f42",
   "metadata": {},
   "outputs": [
    {
     "name": "stdout",
     "output_type": "stream",
     "text": [
      "```json\n",
      "{\n",
      "  \"Title\": \"Request for Proposal (RFP)\",\n",
      "  \"Reference number\": \"RFP/IT/2025-07\",\n",
      "  \"Issued date\": \"July 1, 2025\",\n",
      "  \"Closing date\": \"July 20, 2025\",\n",
      "  \"Eligibility criteria\": {\n",
      "    \"Experience\": \"At least 5 years of experience in IT service delivery for government agencies\",\n",
      "    \"Certification\": \"ISO 27001 is mandatory\"\n",
      "  },\n",
      "  \"Submission Instructions\": \"All proposals must be submitted via email to procurement@govagency.org no later than 5:00 PM BST on the closing date.\",\n",
      "  \"Evaluation Criteria\": {\n",
      "    \"Price\": \"40%\",\n",
      "    \"Technical Expertise\": \"30%\",\n",
      "    \"Delivery Timeline\": \"20%\",\n",
      "    \"Sustainability Practices\": \"10%\"\n",
      "  },\n",
      "  \"Required Documentation\": [\n",
      "    \"Company profile\",\n",
      "    \"Financial statements for the past 2 years\",\n",
      "    \"At least 3 references\",\n",
      "    \"Project plan\"\n",
      "  ],\n",
      "  \"Contact information\": {\n",
      "    \"Name\": \"Sarah Nolan\",\n",
      "    \"Title\": \"Procurement Officer\",\n",
      "    \"Deadline for Questions\": \"July 10, 2025\"\n",
      "  }\n",
      "}\n",
      "```\n"
     ]
    }
   ],
   "source": [
    "print(output)"
   ]
  },
  {
   "cell_type": "code",
   "execution_count": 44,
   "id": "99a3d557-26a0-4b51-9ccd-4a534cf22a2b",
   "metadata": {},
   "outputs": [
    {
     "name": "stdout",
     "output_type": "stream",
     "text": [
      "{'Title': 'Request for Proposal (RFP)', 'Reference number': 'RFP/IT/2025-07', 'Issued date': 'July 1, 2025', 'Closing date': 'July 20, 2025', 'Eligibility criteria': {'Experience': 'At least 5 years of experience in IT service delivery for government agencies', 'Certification': 'ISO 27001 is mandatory'}, 'Submission Instructions': 'All proposals must be submitted via email to procurement@govagency.org no later than 5:00 PM BST on the closing date.', 'Evaluation Criteria': {'Price': '40%', 'Technical Expertise': '30%', 'Delivery Timeline': '20%', 'Sustainability Practices': '10%'}, 'Required Documentation': ['Company profile', 'Financial statements for the past 2 years', 'At least 3 references', 'Project plan'], 'Contact information': {'Name': 'Sarah Nolan', 'Title': 'Procurement Officer', 'Deadline for Questions': 'July 10, 2025'}}\n"
     ]
    }
   ],
   "source": [
    "t = output.strip(\"```\").strip(\"json\")\n",
    "print(json.loads(t))"
   ]
  },
  {
   "cell_type": "code",
   "execution_count": 4,
   "id": "25eb740d-3f40-45ed-92b4-adfc06f61c1f",
   "metadata": {},
   "outputs": [],
   "source": []
  },
  {
   "cell_type": "code",
   "execution_count": null,
   "id": "e00ba321-8f7f-46e6-ab21-a5624e536775",
   "metadata": {},
   "outputs": [],
   "source": []
  }
 ],
 "metadata": {
  "kernelspec": {
   "display_name": "Python [conda env:base] *",
   "language": "python",
   "name": "conda-base-py"
  },
  "language_info": {
   "codemirror_mode": {
    "name": "ipython",
    "version": 3
   },
   "file_extension": ".py",
   "mimetype": "text/x-python",
   "name": "python",
   "nbconvert_exporter": "python",
   "pygments_lexer": "ipython3",
   "version": "3.9.23"
  }
 },
 "nbformat": 4,
 "nbformat_minor": 5
}
